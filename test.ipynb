{
 "cells": [
  {
   "cell_type": "code",
   "execution_count": 7,
   "metadata": {},
   "outputs": [
    {
     "name": "stdout",
     "output_type": "stream",
     "text": [
      "Commit with more than 3000 insertions/deletions:  25 files changed, 14 insertions(+), 99214 deletions(-)\n",
      "Commit with more than 3000 insertions/deletions:  15 files changed, 96364 insertions(+), 66 deletions(-)\n",
      "Total insertions: 150901\n",
      "Total deletions: 147435\n",
      "Net change: 3466\n"
     ]
    }
   ],
   "source": [
    "import re\n",
    "\n",
    "# 读取包含 Git 日志的文件\n",
    "with open('git_log.txt', 'r') as file:\n",
    "    git_log = file.read()\n",
    "\n",
    "# 正则表达式模式\n",
    "pattern = re.compile(r\"(\\d+) insertions\\(\\+\\), (\\d+) deletions\\(-\\)\")\n",
    "\n",
    "# 初始化增加和删除的行数\n",
    "total_insertions = 0\n",
    "total_deletions = 0\n",
    "\n",
    "# 遍历每行日志\n",
    "for line in git_log.split('\\n'):\n",
    "    match = pattern.search(line)\n",
    "    if match:\n",
    "        insertions = int(match.group(1))\n",
    "        deletions = int(match.group(2))\n",
    "        total_insertions += insertions\n",
    "        total_deletions += deletions\n",
    "\n",
    "        # 检查是否有某次提交或更改超过1000\n",
    "        if insertions > 3000 or deletions > 3000:\n",
    "            print(f\"Commit with more than 3000 insertions/deletions: {line}\")\n",
    "\n",
    "# 打印结果\n",
    "print(f\"Total insertions: {total_insertions}\")\n",
    "print(f\"Total deletions: {total_deletions}\")\n",
    "print(f\"Net change: {total_insertions - total_deletions}\")\n"
   ]
  }
 ],
 "metadata": {
  "kernelspec": {
   "display_name": "dgl_v09",
   "language": "python",
   "name": "python3"
  },
  "language_info": {
   "codemirror_mode": {
    "name": "ipython",
    "version": 3
   },
   "file_extension": ".py",
   "mimetype": "text/x-python",
   "name": "python",
   "nbconvert_exporter": "python",
   "pygments_lexer": "ipython3",
   "version": "3.8.17"
  }
 },
 "nbformat": 4,
 "nbformat_minor": 2
}
